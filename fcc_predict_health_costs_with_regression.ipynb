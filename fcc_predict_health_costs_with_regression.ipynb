{
  "cells": [
    {
      "cell_type": "markdown",
      "metadata": {
        "id": "view-in-github",
        "colab_type": "text"
      },
      "source": [
        "<a href=\"https://colab.research.google.com/github/tsjendoll/predict_health_costs_with_regression/blob/main/fcc_predict_health_costs_with_regression.ipynb\" target=\"_parent\"><img src=\"https://colab.research.google.com/assets/colab-badge.svg\" alt=\"Open In Colab\"/></a>"
      ]
    },
    {
      "cell_type": "code",
      "execution_count": null,
      "metadata": {
        "id": "1rRo8oNqZ-Rj"
      },
      "outputs": [],
      "source": [
        "# Import libraries. You may or may not use all of these.\n",
        "!pip install -q git+https://github.com/tensorflow/docs\n",
        "import matplotlib.pyplot as plt\n",
        "import numpy as np\n",
        "import pandas as pd\n",
        "\n",
        "try:\n",
        "  # %tensorflow_version only exists in Colab.\n",
        "  %tensorflow_version 2.x\n",
        "except Exception:\n",
        "  pass\n",
        "import tensorflow as tf\n",
        "\n",
        "from tensorflow import keras\n",
        "from tensorflow.keras import layers\n",
        "\n",
        "import tensorflow_docs as tfdocs\n",
        "import tensorflow_docs.plots\n",
        "import tensorflow_docs.modeling"
      ]
    },
    {
      "cell_type": "code",
      "execution_count": null,
      "metadata": {
        "id": "CiX2FI4gZtTt"
      },
      "outputs": [],
      "source": [
        "# Import data\n",
        "!wget https://cdn.freecodecamp.org/project-data/health-costs/insurance.csv\n",
        "dataset = pd.read_csv('insurance.csv')\n",
        "dataset.tail()"
      ]
    },
    {
      "cell_type": "code",
      "execution_count": null,
      "metadata": {
        "id": "LcopvQh3X-kX"
      },
      "outputs": [],
      "source": [
        "X = pd.get_dummies(dataset)\n",
        "y = X.pop('expenses')"
      ]
    },
    {
      "cell_type": "code",
      "source": [
        "X"
      ],
      "metadata": {
        "id": "fdmEWFP3wWcv"
      },
      "execution_count": null,
      "outputs": []
    },
    {
      "cell_type": "code",
      "source": [
        "y = y.astype(int)\n",
        "y"
      ],
      "metadata": {
        "id": "LmY5hSiHwYjQ"
      },
      "execution_count": null,
      "outputs": []
    },
    {
      "cell_type": "code",
      "source": [
        "from sklearn.model_selection import train_test_split\n",
        "\n",
        "train_X, val_X, train_y, val_y = train_test_split(X,y, test_size=0.20, random_state=0)"
      ],
      "metadata": {
        "id": "C0QVxMOKuaEE"
      },
      "execution_count": null,
      "outputs": []
    },
    {
      "cell_type": "code",
      "source": [
        "from sklearn.ensemble import RandomForestClassifier\n",
        "from sklearn.metrics import mean_absolute_error\n",
        "from sklearn.metrics import mean_absolute_error\n",
        "\n",
        "class MyRandomForestClassifier:\n",
        "  def __init__(self, n_estimators, max_depth, random_state):\n",
        "    self.model = RandomForestClassifier(n_estimators=n_estimators, max_depth=max_depth, random_state=random_state)\n",
        "\n",
        "  def evaluate(self, X,y, verbose=2):\n",
        "    y_pred = self.predict(X)\n",
        "    mae = mean_absolute_error(y, y_pred)\n",
        "    return mae\n",
        "\n",
        "  def fit(self, X, y):\n",
        "    self.model.fit(X, y)\n",
        "\n",
        "  def predict(self, X):\n",
        "    return self.model.predict(X)\n",
        "\n",
        "def get_mae(n_estimators, max_depth, random_state, train_X, val_X, train_y, val_y):\n",
        "    model = RandomForestClassifier(n_estimators=n_estimators, max_depth=max_depth, random_state=random_state)\n",
        "    model.fit(train_X, train_y)\n",
        "    preds_val = model.predict(val_X)\n",
        "    mae = mean_absolute_error(val_y, preds_val)\n",
        "    return(mae)"
      ],
      "metadata": {
        "id": "kwU9Ak4ru8px"
      },
      "execution_count": null,
      "outputs": []
    },
    {
      "cell_type": "code",
      "source": [
        "from sklearn.impute import SimpleImputer\n",
        "\n",
        "my_imputer = SimpleImputer()\n",
        "final_X_train = pd.DataFrame(my_imputer.fit_transform(train_X))\n",
        "final_X_valid = pd.DataFrame(my_imputer.transform(val_X))"
      ],
      "metadata": {
        "id": "vqbf5LNWu_5D"
      },
      "execution_count": null,
      "outputs": []
    },
    {
      "cell_type": "code",
      "source": [
        "train_labels = train_y\n",
        "test_labels = val_y\n",
        "train_dataset = train_X\n",
        "test_dataset = val_X"
      ],
      "metadata": {
        "id": "TuX8_pk8zJrL"
      },
      "execution_count": null,
      "outputs": []
    },
    {
      "cell_type": "code",
      "source": [
        "n_estimators_list = [150,200,250,300]\n",
        "max_depth_list = [2,3,4,5,6,7,8,9]\n",
        "random_state_list = [2,3,4,5,6,7]\n",
        "mae_list = []\n",
        "for n_estimators in n_estimators_list:\n",
        "    for max_depth in max_depth_list:\n",
        "        for random_state in random_state_list:\n",
        "            mae = get_mae(n_estimators, max_depth, random_state, final_X_train, final_X_valid, train_y, val_y)\n",
        "            #print(f'No. Estimators: {n_estimators} \\t Max Depth: {max_depth} \\t Mean Absolute Error: {mae}')\n",
        "            mae_list.append([n_estimators, max_depth, random_state, mae])\n",
        "best_result = min(mae_list, key=lambda x:x[3])\n",
        "print(f\"No. Estimators: {best_result[0]} \\n Max Depth: {best_result[1]} \\n Random State: {best_result[2]} Mean Absolute Error: {best_result[3]}\")"
      ],
      "metadata": {
        "id": "KHer2ru-2eNG"
      },
      "execution_count": null,
      "outputs": []
    },
    {
      "cell_type": "code",
      "source": [
        "model = MyRandomForestClassifier(n_estimators=best_result[0], max_depth=best_result[1], random_state=best_result[2])\n",
        "model.fit(final_X_train,train_y)"
      ],
      "metadata": {
        "id": "hd34r-tAzdBd"
      },
      "execution_count": null,
      "outputs": []
    },
    {
      "cell_type": "code",
      "execution_count": null,
      "metadata": {
        "id": "Xe7RXH3N3CWU"
      },
      "outputs": [],
      "source": [
        "# RUN THIS CELL TO TEST YOUR MODEL. DO NOT MODIFY CONTENTS.\n",
        "# Test model by checking how well the model generalizes using the test set.\n",
        "mae = model.evaluate(test_dataset, test_labels, verbose=2)\n",
        "\n",
        "print(\"Testing set Mean Abs Error: {} expenses\".format(mae))\n",
        "\n",
        "if mae < 3500:\n",
        "  print(\"You passed the challenge. Great job!\")\n",
        "else:\n",
        "  print(\"The Mean Abs Error must be less than 3500. Keep trying.\")\n",
        "\n",
        "# Plot predictions.\n",
        "test_predictions = model.predict(test_dataset).flatten()\n",
        "\n",
        "a = plt.axes(aspect='equal')\n",
        "plt.scatter(test_labels, test_predictions)\n",
        "plt.xlabel('True values (expenses)')\n",
        "plt.ylabel('Predictions (expenses)')\n",
        "lims = [0, 50000]\n",
        "plt.xlim(lims)\n",
        "plt.ylim(lims)\n",
        "_ = plt.plot(lims,lims)\n"
      ]
    }
  ],
  "metadata": {
    "colab": {
      "private_outputs": true,
      "provenance": [],
      "include_colab_link": true
    },
    "kernelspec": {
      "display_name": "Python 3",
      "name": "python3"
    }
  },
  "nbformat": 4,
  "nbformat_minor": 0
}